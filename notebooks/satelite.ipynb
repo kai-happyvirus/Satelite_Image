{
 "cells": [
  {
   "cell_type": "code",
   "execution_count": 25,
   "metadata": {},
   "outputs": [],
   "source": [
    "# Import Libraries\n",
    "\n",
    "# !jupyter nbextension enable --py widgetsnbextension\n",
    "\n",
    "import os \n",
    "import cv2\n",
    "from datetime import date\n",
    "import json\n",
    "import itertools\n",
    "\n",
    "import rasterio\n",
    "import matplotlib.pyplot as plt\n",
    "import numpy as np\n",
    "from sentinelsat import SentinelAPI, read_geojson, geojson_to_wkt\n",
    "from sentinelhub import pixel_to_utm, utm_to_pixel\n",
    "\n",
    "import utm\n",
    "import pandas as pd\n",
    "\n",
    "\n",
    "from decouple import config"
   ]
  },
  {
   "cell_type": "markdown",
   "metadata": {},
   "source": [
    "# Step 1. Collect the Sentinel-2B data"
   ]
  },
  {
   "cell_type": "code",
   "execution_count": 31,
   "metadata": {},
   "outputs": [],
   "source": [
    "username = config('USERNAME')\n",
    "password = config('PASSWORD')\n",
    "\n",
    "# Set up Sentinel API\n",
    "api = SentinelAPI(username, password, 'https://scihub.copernicus.eu/dhus')\n"
   ]
  },
  {
   "cell_type": "code",
   "execution_count": 32,
   "metadata": {},
   "outputs": [],
   "source": [
    "# Set up Geo json\n",
    "geoJson_path = '../data/geojson/fr_map.geojson'\n",
    "shape = geojson_to_wkt(read_geojson(geoJson_path))"
   ]
  },
  {
   "cell_type": "code",
   "execution_count": 35,
   "metadata": {},
   "outputs": [
    {
     "ename": "NameError",
     "evalue": "name 'bbox' is not defined",
     "output_type": "error",
     "traceback": [
      "\u001b[0;31m---------------------------------------------------------------------------\u001b[0m",
      "\u001b[0;31mNameError\u001b[0m                                 Traceback (most recent call last)",
      "\u001b[1;32m/Users/kaicho/Development/Satellite_imagery/notebooks/satelite.ipynb Cell 5\u001b[0m line \u001b[0;36m4\n\u001b[1;32m      <a href='vscode-notebook-cell:/Users/kaicho/Development/Satellite_imagery/notebooks/satelite.ipynb#W6sZmlsZQ%3D%3D?line=0'>1</a>\u001b[0m \u001b[39m# Query Sentinel API\u001b[39;00m\n\u001b[1;32m      <a href='vscode-notebook-cell:/Users/kaicho/Development/Satellite_imagery/notebooks/satelite.ipynb#W6sZmlsZQ%3D%3D?line=1'>2</a>\u001b[0m geom \u001b[39m=\u001b[39m {\n\u001b[1;32m      <a href='vscode-notebook-cell:/Users/kaicho/Development/Satellite_imagery/notebooks/satelite.ipynb#W6sZmlsZQ%3D%3D?line=2'>3</a>\u001b[0m     \u001b[39m\"\u001b[39m\u001b[39mtype\u001b[39m\u001b[39m\"\u001b[39m: \u001b[39m\"\u001b[39m\u001b[39mPolygon\u001b[39m\u001b[39m\"\u001b[39m,\n\u001b[0;32m----> <a href='vscode-notebook-cell:/Users/kaicho/Development/Satellite_imagery/notebooks/satelite.ipynb#W6sZmlsZQ%3D%3D?line=3'>4</a>\u001b[0m     \u001b[39m\"\u001b[39m\u001b[39mcoordinates\u001b[39m\u001b[39m\"\u001b[39m: [[[ bbox[\u001b[39m0\u001b[39m], bbox[\u001b[39m1\u001b[39m]],\n\u001b[1;32m      <a href='vscode-notebook-cell:/Users/kaicho/Development/Satellite_imagery/notebooks/satelite.ipynb#W6sZmlsZQ%3D%3D?line=4'>5</a>\u001b[0m                     [ bbox[\u001b[39m2\u001b[39m], bbox[\u001b[39m1\u001b[39m]],\n\u001b[1;32m      <a href='vscode-notebook-cell:/Users/kaicho/Development/Satellite_imagery/notebooks/satelite.ipynb#W6sZmlsZQ%3D%3D?line=5'>6</a>\u001b[0m                     [ bbox[\u001b[39m2\u001b[39m], bbox[\u001b[39m3\u001b[39m]],\n\u001b[1;32m      <a href='vscode-notebook-cell:/Users/kaicho/Development/Satellite_imagery/notebooks/satelite.ipynb#W6sZmlsZQ%3D%3D?line=6'>7</a>\u001b[0m                     [ bbox[\u001b[39m0\u001b[39m], bbox[\u001b[39m3\u001b[39m]],\n\u001b[1;32m      <a href='vscode-notebook-cell:/Users/kaicho/Development/Satellite_imagery/notebooks/satelite.ipynb#W6sZmlsZQ%3D%3D?line=7'>8</a>\u001b[0m                     [ bbox[\u001b[39m0\u001b[39m], bbox[\u001b[39m1\u001b[39m]]]]}\n\u001b[1;32m     <a href='vscode-notebook-cell:/Users/kaicho/Development/Satellite_imagery/notebooks/satelite.ipynb#W6sZmlsZQ%3D%3D?line=9'>10</a>\u001b[0m footprint \u001b[39m=\u001b[39m geojson_to_wkt(geom)\n\u001b[1;32m     <a href='vscode-notebook-cell:/Users/kaicho/Development/Satellite_imagery/notebooks/satelite.ipynb#W6sZmlsZQ%3D%3D?line=10'>11</a>\u001b[0m images \u001b[39m=\u001b[39m api\u001b[39m.\u001b[39mquery(\n\u001b[1;32m     <a href='vscode-notebook-cell:/Users/kaicho/Development/Satellite_imagery/notebooks/satelite.ipynb#W6sZmlsZQ%3D%3D?line=11'>12</a>\u001b[0m     footprint,\n\u001b[1;32m     <a href='vscode-notebook-cell:/Users/kaicho/Development/Satellite_imagery/notebooks/satelite.ipynb#W6sZmlsZQ%3D%3D?line=12'>13</a>\u001b[0m     date\u001b[39m=\u001b[39m(date(\u001b[39m2020\u001b[39m, \u001b[39m5\u001b[39m, \u001b[39m1\u001b[39m), date(\u001b[39m2020\u001b[39m, \u001b[39m5\u001b[39m, \u001b[39m10\u001b[39m)),\n\u001b[0;32m   (...)\u001b[0m\n\u001b[1;32m     <a href='vscode-notebook-cell:/Users/kaicho/Development/Satellite_imagery/notebooks/satelite.ipynb#W6sZmlsZQ%3D%3D?line=15'>16</a>\u001b[0m     cloudcoverpercentage\u001b[39m=\u001b[39m(\u001b[39m0\u001b[39m, \u001b[39m30\u001b[39m)\n\u001b[1;32m     <a href='vscode-notebook-cell:/Users/kaicho/Development/Satellite_imagery/notebooks/satelite.ipynb#W6sZmlsZQ%3D%3D?line=16'>17</a>\u001b[0m )\n",
      "\u001b[0;31mNameError\u001b[0m: name 'bbox' is not defined"
     ]
    }
   ],
   "source": [
    "# Query Sentinel API\n",
    "images = api.query(\n",
    "    footprint,\n",
    "    date=(date(2020, 5, 1), date(2020, 5, 10)),\n",
    "    platformname=\"Sentinel-2\",\n",
    "    processinglevel = \"Level-2A\",\n",
    "    cloudcoverpercentage=(0, 30)\n",
    ")\n"
   ]
  },
  {
   "cell_type": "code",
   "execution_count": null,
   "metadata": {},
   "outputs": [],
   "source": []
  },
  {
   "cell_type": "code",
   "execution_count": null,
   "metadata": {},
   "outputs": [],
   "source": []
  }
 ],
 "metadata": {
  "kernelspec": {
   "display_name": ".venv",
   "language": "python",
   "name": "python3"
  },
  "language_info": {
   "codemirror_mode": {
    "name": "ipython",
    "version": 3
   },
   "file_extension": ".py",
   "mimetype": "text/x-python",
   "name": "python",
   "nbconvert_exporter": "python",
   "pygments_lexer": "ipython3",
   "version": "3.11.4"
  }
 },
 "nbformat": 4,
 "nbformat_minor": 2
}
